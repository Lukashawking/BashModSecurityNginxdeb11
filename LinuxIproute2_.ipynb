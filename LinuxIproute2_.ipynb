{
  "nbformat": 4,
  "nbformat_minor": 0,
  "metadata": {
    "colab": {
      "name": "LinuxIproute2 .ipynb",
      "provenance": [],
      "toc_visible": true,
      "authorship_tag": "ABX9TyN3Tjs5gxcx5Kz8wNDWHhfQ",
      "include_colab_link": true
    },
    "kernelspec": {
      "name": "python3",
      "display_name": "Python 3"
    },
    "language_info": {
      "name": "python"
    }
  },
  "cells": [
    {
      "cell_type": "markdown",
      "metadata": {
        "id": "view-in-github",
        "colab_type": "text"
      },
      "source": [
        "<a href=\"https://colab.research.google.com/github/ldvjjv/BashModSecurityNginxdeb11/blob/main/LinuxIproute2_.ipynb\" target=\"_parent\"><img src=\"https://colab.research.google.com/assets/colab-badge.svg\" alt=\"Open In Colab\"/></a>"
      ]
    },
    {
      "cell_type": "markdown",
      "metadata": {
        "id": "N3OWnC4heBB2"
      },
      "source": [
        "# Double Click to Install Tools\n"
      ]
    },
    {
      "cell_type": "markdown",
      "source": [
        ""
      ],
      "metadata": {
        "id": "3ptK2n6iEFGn"
      }
    },
    {
      "cell_type": "code",
      "metadata": {
        "id": "xVcL4cMqeNZm"
      },
      "source": [
        "!apt install net-tools\n",
        "!apt install iproute2"
      ],
      "execution_count": null,
      "outputs": []
    },
    {
      "cell_type": "markdown",
      "metadata": {
        "id": "RpAg745BemFm"
      },
      "source": [
        "# Como configurar la red de un servidor Linux con ip (iproute2 suite)\n",
        "* Actualizado 29 de septiembre, 2021 \n",
        "---\n",
        "\n",
        "Cuando necesitamos configurar la red de un servidor basado en Linux, hace años se usaba el comando **«ifconfig»**, de hecho, lo puedes seguir utilizando, pero tendrás que instalar un paquete adicional en tu sistema operativo, porque por defecto ahora se utiliza la **suite iproute2**, y el popular **comando «ip»**. Todos los usuarios de Linux siempre han usado **ifconfig**, pero el nuevo comando **ip** es mucho más intuitivo y fácil de utilizar, además, también se puede configurar rutas estáticas en el sistema operativo sin tener que usar otro programa adicional **(route)**. ¿Quieres conocer todo sobre el comando ip de la **suite iproute2** para configurar tu servidor Linux a nivel de red?"
      ]
    },
    {
      "cell_type": "markdown",
      "metadata": {
        "id": "eSh1cPDdey6G"
      },
      "source": [
        "#Principales características de IProute2 en Linux\n",
        "---\n",
        "**Iproute2** es un paquete de utilidades de red que hoy en día se encuentra de manera predeterminada en la mayoría de sistemas operativos basados en **Linux**, como **Debian**, **Ubuntu**, **RedHat** y muchas otras distribuciones orientadas tanto a escritorio como a servidores. Este paquete incluye un conjunto de herramientas muy completas que nos permitirán configurar y administrar las interfaces de red en detalle. Este paquete reemplaza por completo las funcionalidades de **ifconfig**, **route** y **arp**, todo ello bajo el mismo comando **«ip»** para facilitar a los usuarios el uso de esta potente herramienta. Por supuesto, no solamente disponemos de las mismas características de siempre, sino que en **iproute2** han añadido funcionalidades muy importantes.\n",
        "**IProute2** es una herramienta mucho más completa y moderna que **ifconfig**, por lo que es recomendable su uso a la hora de gestionar diferentes aspectos de nuestra red. Con IP se pueden llevar a cabo las mismas acciones que podemos hacer con ifconfig y, al ser una suite bastante más completa, podremos configurar más parámetros que ifconfig no nos permitiría."
      ]
    },
    {
      "cell_type": "markdown",
      "metadata": {
        "id": "LOU4i6-Te_K9"
      },
      "source": [
        "# QoS (Quality of Service)\n",
        "---\n",
        "iproute2 nos proporciona QoS, es capaz de priorizar distintos tipos de tráfico de manera eficiente, el control de tráfico está compuesto por varias operaciones que las realiza internamente la herramienta, como el mecanismo de clasificación de los paquetes, colocación en distintas clases o flujos, e incluso limitación del número de paquetes o bytes que se pueden usar en un flujo de datos."
      ]
    },
    {
      "cell_type": "markdown",
      "metadata": {
        "id": "SeH63_8jfIOG"
      },
      "source": [
        "#Balanceo de carga y túneles IP\n",
        "---\n",
        "Esta herramienta permite asignar pesos a cada una de las interfaces de red que tengamos en el servidor, por tanto, podremos hacer un balanceador de carga basado en diferentes algoritmos, ideal para balancear el tráfico entre varias interfaces y no colapsar una de ellas. iproute2 también nos permite crear túneles que encapsulan paquetes en formato IPv4 y se envían a través de infraestructura IP."
      ]
    },
    {
      "cell_type": "markdown",
      "metadata": {
        "id": "13cpui6lfOlH"
      },
      "source": [
        "# Múltiples tablas de enrutamiento\n",
        "-----\n",
        "\n",
        "iproute2 nos permitirá crear varias tablas de enrutamiento en el sistema operativo, podremos configurar una tabla de enrutamiento principal, y posteriormente crear diferentes tablas de enrutamiento para enrutar eficientemente todo el tráfico. Por supuesto, en cada tabla de enrutamiento podremos definir una puerta de enlace predeterminada (gateway) diferente. Esto es ideal por si tenemos varias interfaces de red en el servidor, y queremos que el tráfico que llegue por una interfaz, salga por esa misma interfaz, aunque también podría salir por otra interfaz, todo depende de cómo tengas configurado el routing en tu servidor. Sin lugar a dudas, esta funcionalidad es una de las más importantes que integra iproute2 ya que nos permitirá una gran flexibilidad."
      ]
    },
    {
      "cell_type": "markdown",
      "metadata": {
        "id": "8f7NLVPRfdzu"
      },
      "source": [
        "# Funcionamiento del comando ip\n",
        "---\n",
        "La herramienta principal de **iproute2** es el comando **«ip»**, con el que podremos ver y configurar direcciones IP, ver y configurar tablas de enrutamiento, ver y configurar túneles IP, y también ver y configurar la interfaz física. La sintaxis que debemos utilizar con este comando es la siguiente:\n",
        "---\n",
        "---\n",
        "* **ip** **[ OPCIONES ]** **OBJETO** **[ COMANDO ]**\n",
        "---\n",
        "Los **«OBJETOS»** que tenemos en ip son los siguientes, y son los que podremos ver y configurar los enlaces físicos, direcciones ip, rutas y más. Es muy importante que todas las órdenes estén tal y como las ponemos, todo en minúsculas, de lo contrario, devolverá un error.\n",
        "A continuación, estos son  los principales **objetos**:\n",
        "---\n",
        "---\n",
        "* **link:** nos sirve para configurar las interfaces de red físicas o lógicas, por ejemplo, para ver el estado de todas las interfaces de red.\n",
        "---\n",
        "* **address:** permite ver y configurar las direcciones IPv4 y IPv6 asociadas a las diferentes interfaces de red. Cada interfaz debe tener al menos, una dirección IP configurada.\n",
        "---\n",
        "* **addrlabel:** permite añadir una etiqueta\n",
        "---\n",
        "* **neighbour:** permite ver los enlaces de vecindad, es decir, se puede ver la tabla ARP del sistema operativo.\n",
        "---\n",
        "* **rule:** permite ver y configurar políticas de enrutado y cambiarlas, esto se utiliza sobre todo cuando vas a configurar varias tablas de enrutamiento.\n",
        "---\n",
        "* **route:** permite ver y configurar las tablas de enrutamiento, tanto de la tabla de enrutamiento principal, como de las «secundarias» que configures.\n",
        "---\n",
        "* **tunnel:** permite ver los túneles IP y también configurarlos.\n",
        "---\n",
        "* **maddr:** permite ver y configurar las direcciones multienlace.\n",
        "---\n",
        "* **mroute:** permite ver y configurar la tabla de enrutamiento multicast.\n",
        "---\n",
        "* **mrule:** permite ver y configurar políticas de enrutamiento de direcciones multicast.\n",
        "---\n",
        "* **monitor:** permite monitorizar el estado de las tarjetas de red de manera continua, también direcciones IP y rutas.\n",
        "---\n",
        "* **ntable:** gestiona el caché de neighbour (ARP)\n",
        "---\n",
        "* **tuntap:** gestiona las interfaces TUN/TAP, orientado a las VPN como OpenVPN o WireGuard.\n",
        "---\n",
        "* **maddress:** configuración de las direcciones multicast\n",
        "---\n",
        "* **xfrm:** gestiona las políticas IPsec.\n",
        "---\n",
        "* **netns:** administrar espacios de nombres de red\n",
        "---\n",
        "* **l2tp:** configuración de L2TP\n",
        "---\n",
        "* **tcp_metrics**: gestiona métricas TCP.\n",
        "---\n",
        "* **token:** gestiona los identificadores con token de las interfaces.\n",
        "---"
      ]
    },
    {
      "cell_type": "markdown",
      "metadata": {
        "id": "rHeqQ9THC1zd"
      },
      "source": [
        "![Screenshot from 2021-10-05 12-20-33.png](data:image/png;base64,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)"
      ]
    },
    {
      "cell_type": "markdown",
      "metadata": {
        "id": "O3GOH9tKfx6f"
      },
      "source": [
        "# Funcionamiento del comando ip route\n",
        "---\n",
        "Aunque **«ip route»** está integrado dentro de **iproute2**, tiene una configuración específica adicional. **«ip route»** nos permite ver y configurar la tabla de enrutamiento del sistema operativo, pero también nos permitirá ver y configurar todas las tablas de enrutamiento que nosotros creemos en el propio sistema operativo. Debemos tener en cuenta, que por cada entrada en la tabla de enrutamiento, debemos tener la dirección de red, máscara y el gateway, además, también podríamos configurar el **ToS (tipo de servicio)**. El sistema operativo Linux nos permitirá crear un total de 253 tablas de enrutamiento, por defecto, el sistema operativo introduce las rutas en la tabla de enrutamiento principal que tiene ID 254, y el núcleo solamente usa esta tabla para calcular los caminos. La tabla de enrutamiento con ID 255 es la tabla de direcciones locales y de broadcast, esta tabla es mantenida por el núcleo y los administradores de red no deberían tocarla.\n",
        "Si queremos añadir o quitar tablas de enrutamiento, debemos editar el archivo **«/etc/iproute2/rt_tables»**, veremos más adelante cómo crear una segunda tabla de enrutamiento y configurarla, ya que tendremos que hacer uso de **«ip rule»** y también de **«ip route»**."
      ]
    },
    {
      "cell_type": "markdown",
      "metadata": {
        "id": "DW4z1xZQf4S_"
      },
      "source": [
        "# Comandos «ip» para configurar el direccionamiento IP\n",
        "---\n",
        "Vamos a indicar los principales comandos que podemos utilizar para ver y configurar el direccionamiento IP, ya no deberíamos hacer uso nunca del comando «ifconfig», pero vamos a indicar la «traducción» para que puedas comparar ambos comandos."
      ]
    },
    {
      "cell_type": "markdown",
      "metadata": {
        "id": "cF9jxiY2f-JX"
      },
      "source": [
        "# Mostrar dispositivos de red y su configuración\n",
        "---\n",
        "Con el comando **«ifconfig»** podíamos ver todas las interfaces y la configuración del direccionamiento IP en detalle.\n",
        "```bash\n",
        "ifconfig\n",
        "```\n",
        "Nos devolveria la sigueinte informacion donde **eth0** es la interface de red.\n",
        "```bash\n",
        "\n",
        "eth0: flags=4163<UP,BROADCAST,RUNNING,MULTICAST>  mtu 1500\n",
        "        inet 172.28.0.2  netmask 255.255.0.0  broadcast 172.28.255.255\n",
        "        ether 02:42:ac:1c:00:02  txqueuelen 0  (Ethernet)\n",
        "        RX packets 1106  bytes 484590 (484.5 KB)\n",
        "        RX errors 0  dropped 0  overruns 0  frame 0\n",
        "        TX packets 1015  bytes 293510 (293.5 KB)\n",
        "        TX errors 0  dropped 0 overruns 0  carrier 0  collisions 0\n",
        "\n",
        "lo: flags=73<UP,LOOPBACK,RUNNING>  mtu 65536\n",
        "        inet 127.0.0.1  netmask 255.0.0.0\n",
        "        loop  txqueuelen 1000  (Local Loopback)\n",
        "        RX packets 2239  bytes 599796 (599.7 KB)\n",
        "        RX errors 0  dropped 0  overruns 0  frame 0\n",
        "        TX packets 2239  bytes 599796 (599.7 KB)\n",
        "        TX errors 0  dropped 0 overruns 0  carrier 0  collisions 0\n",
        "\n",
        "```\n"
      ]
    },
    {
      "cell_type": "code",
      "metadata": {
        "id": "_voWMC6EglAI"
      },
      "source": [
        "!ifconfig"
      ],
      "execution_count": null,
      "outputs": []
    },
    {
      "cell_type": "markdown",
      "metadata": {
        "id": "5VJR3v5vgoBi"
      },
      "source": [
        "Con el comando **ip**, tenemos dos comandos parecidos, uno de ellos nos mostrará toda la información a nivel de direccionamiento **IP (ip addr show)**, y el otro nos mostrará el estado de la interfaz física **(ip link show)**:\n",
        "\n",
        "Nos devolveria la sigueinte informacion donde **eth0@if6** es la interface de red\n",
        "```bash\n",
        "1: lo: <LOOPBACK,UP,LOWER_UP> mtu 65536 qdisc noqueue state UNKNOWN group default qlen 1000\n",
        "    link/loopback 00:00:00:00:00:00 brd 00:00:00:00:00:00\n",
        "    inet 127.0.0.1/8 scope host lo\n",
        "       valid_lft forever preferred_lft forever\n",
        "5: eth0@if6: <BROADCAST,MULTICAST,UP,LOWER_UP> mtu 1500 qdisc noqueue state UP group default \n",
        "    link/ether 02:42:ac:1c:00:02 brd ff:ff:ff:ff:ff:ff link-netnsid 0\n",
        "    inet 172.28.0.2/16 brd 172.28.255.255 scope global eth0\n",
        "       valid_lft forever preferred_lft forever\n",
        "```\n"
      ]
    },
    {
      "cell_type": "code",
      "metadata": {
        "id": "5YW3f6U4hKbF"
      },
      "source": [
        "!ip addr show"
      ],
      "execution_count": null,
      "outputs": []
    },
    {
      "cell_type": "markdown",
      "metadata": {
        "id": "NTEvMbj4hRSS"
      },
      "source": [
        "Tambien se puede usar **ip link show**"
      ]
    },
    {
      "cell_type": "code",
      "metadata": {
        "id": "5MNrBB-qhSvF",
        "colab": {
          "base_uri": "https://localhost:8080/"
        },
        "outputId": "50a03013-f4f5-42f4-d6ae-8e1a316795a2"
      },
      "source": [
        "!ip link show"
      ],
      "execution_count": null,
      "outputs": [
        {
          "output_type": "stream",
          "name": "stdout",
          "text": [
            "1: lo: <LOOPBACK,UP,LOWER_UP> mtu 65536 qdisc noqueue state UNKNOWN mode DEFAULT group default qlen 1000\n",
            "    link/loopback 00:00:00:00:00:00 brd 00:00:00:00:00:00\n",
            "5: eth0@if6: <BROADCAST,MULTICAST,UP,LOWER_UP> mtu 1500 qdisc noqueue state UP mode DEFAULT group default \n",
            "    link/ether 02:42:ac:1c:00:02 brd ff:ff:ff:ff:ff:ff link-netnsid 0\n"
          ]
        }
      ]
    },
    {
      "cell_type": "markdown",
      "metadata": {
        "id": "bskilgEthcBV"
      },
      "source": [
        "tenemos configurado e incluso si está o no habilitada la interfaz de red."
      ]
    },
    {
      "cell_type": "markdown",
      "metadata": {
        "id": "Hnr3m3rwhgAl"
      },
      "source": [
        "# Activar una interfaz de red\n",
        "---\n",
        "Si queremos activar una interfaz de red (levantarla) porque está desactivada, el comando es muy similar al del antiguo **«ifconfig»**, pero ahora tendremos que hacer uso de **«ip link»** para configurar esta característica.\n",
        " El funcionamiento \n",
        "\n",
        "\n",
        "\n",
        "es realmente sencillo, en este caso, los comandos son muy parecidos.\n",
        "```bash\n",
        "ifconfig eth0 up\n",
        "```  \n",
        "o tambien\n",
        "```bash\n",
        "ip link set eth0@if6 up\n",
        "```\n",
        "# Desactivar una interfaz de red\n",
        "---\n",
        "Si queremos deshabilitar o desactivar una interfaz de red, los comandos con **ifconfig** y con **ip link** son casi iguales, tal y como ocurría anteriormente para activar la red.\n",
        "Si queremos deshabilitar o desactivar una interfaz de red, los comandos con ifconfig y con ip link son casi iguales, tal y como ocurría anteriormente para activar la red.\n",
        "```bash\n",
        "ifconfig eth0  down\n",
        "```\n",
        "```bash\n",
        "ip link set eth0@if6 down\n",
        "```\n",
        "\n",
        "\n",
        "\n"
      ]
    },
    {
      "cell_type": "code",
      "metadata": {
        "id": "caFGmocainsC"
      },
      "source": [
        "!ip link help\n"
      ],
      "execution_count": null,
      "outputs": []
    },
    {
      "cell_type": "markdown",
      "metadata": {
        "id": "MrjGbtmBi_ph"
      },
      "source": [
        "Este comando de **«help»** podemos ejecutar también en otros comandos de **«ip»** para ver todas las opciones de configuración disponibles, de esta forma, podemos ver en detalle todas las opciones disponibles que se pueden aplicar."
      ]
    },
    {
      "cell_type": "markdown",
      "metadata": {
        "id": "xgRp9u5JjHfa"
      },
      "source": [
        "# Configurar una dirección IP en una interfaz\n",
        "---\n",
        "Configurar una dirección IP a una interfaz es realmente sencillo, tanto con **ifconfig** como también con el comando «ip», y es que la sintaxis es muy parecida a la sintaxis utilizada en los routers Cisco con el típico **«ip addr»** que todos hemos utilizado alguna vez.\n",
        "```bash\n",
        "ifconfig enp1s0 192.168.1.1/24  \n",
        "```\n",
        "```bash\n",
        "ip addr add 192.168.1.1/24 dev enp1s0\n",
        "```\n",
        "Con este comando estaremos indicando que queremos poner una dirección IP y una máscara de subred específica a una interfaz que nosotros hemos definido.\n"
      ]
    },
    {
      "cell_type": "markdown",
      "metadata": {
        "id": "C9Vd_T2wjPl_"
      },
      "source": [
        "# Eliminar una dirección IP de una interfaz.\n",
        "---\n",
        "Esta característica no es soportada por ifconfig directamente, sino que se debe configurar la dirección **IP 0.0.0.0**\n",
        "```bash\n",
        "ifconfig enp1s0 0.0.0.0\n",
        "```\n",
        "En el caso de **ip**, es tan fácil como sustituir el **«add»** para configurar una IP, por **«del»** para eliminarla (delete).\n",
        "```bash\n",
        "ip addr del 192.168.1.1 dev enp1s0\n",
        "```\n",
        "Tal y como se puede ver, es realmente fácil y rápido eliminar una dirección IP de una interfaz con la suite **iproute2**."
      ]
    },
    {
      "cell_type": "markdown",
      "metadata": {
        "id": "e5V_P8X2jWCH"
      },
      "source": [
        "# Añadir una interfaz virtual **(alias)**\n",
        "---\n",
        "En todas las interfaces físicas tenemos la posibilidad de configurar interfaces virtuales para otro tipo de usos, esto también se le conoce como «alias». En el caso de **ifconfig** y de **«ip»** lo podemos hacer de forma fácil y rápida sin muchas complicaciones.\n",
        "En el caso de **ifconfig**, se podía hacer así:\n",
        "\n",
        "```bash\n",
        "ifconfig enp1s0:1 10.0.0.1/8\n",
        "```\n",
        "En el caso de **ip**, simplemente tenemos que poner la IP de siempre, pero con **«label enp1s0:1»** o el alias que queramos.\n",
        "```bash\n",
        "ip addr add 10.0.0.1/8 dev enp1s0 label enp1s0:dirtcom\n",
        "```\n",
        "Mientras que con **«ifconfig»** no es necesario poner ningún tipo de **«label»**, en el caso de **«ip»** sí tendremos que colocarlo a modo de etiqueta, además, la parte positiva de este label es que podremos nombrar la interfaz de red virtual recién creada como nosotros queramos, no es necesario que siga la sintaxis **enp1s0:1** o lo que sea, podremos poner un nombre.\n",
        "\n",
        "Para ejecutar la ayuda de **«ip addr»** y ver todos los comandos que podemos ejecutar, simplemente basta con poner:\n",
        "```bash\n",
        "ip addr help\n",
        "```\n",
        "Debemos recordar que la ayuda de **«ip»** es realmente útil y nos permitirá saber qué comandos se permiten ejecutar."
      ]
    },
    {
      "cell_type": "code",
      "metadata": {
        "id": "KZihn0winRYB"
      },
      "source": [
        "!ip addr help"
      ],
      "execution_count": null,
      "outputs": []
    },
    {
      "cell_type": "markdown",
      "metadata": {
        "id": "g9QgGUiYjdYn"
      },
      "source": [
        "# Ver las entradas en la tabla ARP\n",
        "---\n",
        "```bash\n",
        "arp -n\n",
        "```\n",
        "```bash\n",
        "ip neigh show\n",
        "```"
      ]
    },
    {
      "cell_type": "code",
      "metadata": {
        "id": "nMz3fvUgnbAm"
      },
      "source": [
        "!arp -n"
      ],
      "execution_count": null,
      "outputs": []
    },
    {
      "cell_type": "code",
      "metadata": {
        "id": "51-jGJ31nev-"
      },
      "source": [
        "!ip neigh show"
      ],
      "execution_count": null,
      "outputs": []
    },
    {
      "cell_type": "markdown",
      "metadata": {
        "id": "mqFTpqRWjkMx"
      },
      "source": [
        "# Añadir una entrada en la tabla ARP\n",
        "---\n",
        "En el caso de **«ifconfig»**, no se hace con este comando, sino con el comando **«arp»** que ahora ha desaparecido:\n",
        "```bash\n",
        "arp -i eth0 -s 192.168.0.1 00:11:22:33:44:55\n",
        "```\n",
        "\n",
        "En el caso de iproute2, tenemos que usar el objeto **«neigh»**, tal y como podéis ver:\n",
        "```bash\n",
        "ip neigh add 192.168.0.1 lladdr 00:11:22:33:44:55 nud permanent dev enp1s0\n",
        "```"
      ]
    },
    {
      "cell_type": "markdown",
      "metadata": {
        "id": "zkqFO86IjuMg"
      },
      "source": [
        "# Quitar una entrada de ARP\n",
        "---\n",
        "```bash\n",
        "ifconfig -arp  enp1s0 \n",
        "```\n",
        "```bash\n",
        "ip neigh del 192.168.0.1 lladdr 00:11:22:33:44:55 nud permanent dev  enp1s0\n",
        "```\n",
        "\n",
        "Para ejecutar la ayuda de «ip neigh» y ver todos los comandos que podemos ejecutar, simplemente basta con poner:\n",
        "```bash\n",
        "ip neigh help\n",
        "```\n",
        "\n",
        "Tal y como hemos visto, las posibilidades de **iproute2** con **ip link**, **ip addr** y **ip neigh** son casi infinitas, además, la sintaxis es muy intuitiva, pareciéndose muchísimo a los routers Cisco que tan conocidos son en el mundo de las redes.\n"
      ]
    },
    {
      "cell_type": "code",
      "metadata": {
        "id": "S9zeavs8nuam"
      },
      "source": [
        "!ip neigh help\n"
      ],
      "execution_count": null,
      "outputs": []
    },
    {
      "cell_type": "markdown",
      "metadata": {
        "id": "74fBUXa_j-0u"
      },
      "source": [
        "# Comandos **«ip route»** para configurar rutas\n",
        "---\n",
        "El comando **«ip route»** nos permitirá configurar la tabla de enrutamiento principal del sistema operativo, y también las tablas de enrutamiento adicionales que configuremos en el sistema operativo. A continuación, tenés algunos ejemplos de uso con únicamente el comando **ip route**, sin utilizar el antiguo **«route»** que teníamos con la suite de **«ifconfig»**."
      ]
    },
    {
      "cell_type": "markdown",
      "metadata": {
        "id": "4iW3uxzJkCF0"
      },
      "source": [
        "# Añadir una ruta en la tabla de enrutamiento\n",
        "---\n",
        "```bash\n",
        "ip route add 10.8.0.0/24 via 192.168.1.2\n",
        "```\n",
        "Borrar una ruta en la tabla de enrutamiento\n",
        "```bash\n",
        "ip route del 10.8.0.0/24 via 192.168.1.2\n",
        "```\n",
        "\n",
        "Cambiar una ruta en la tabla de enrutamiento\n",
        "```bash\n",
        "ip route chg 10.8.0.0/24 via 192.168.1.3\n",
        "```\n",
        "Agregar la puerta de enlace predeterminada (gateway)\n",
        "```bash\n",
        "ip route add default via 192.168.1.1\n",
        "```\n",
        "\n",
        "Borrar la puerta de enlace predeterminada (gateway)\n",
        "```bash\n",
        "ip route del default via 192.168.1.254\n",
        "```\n",
        "Ver el estado de la tabla de enrutamiento principal\n",
        "```bash\n",
        "ip route show\n",
        "```\n",
        "```bash\n",
        "ip route list\n",
        "```\n",
        "\n",
        "Tal y como podemos ver, agregar, borrar y cambiar rutas estáticas es realmente fácil, igual que definir una puerta de enlace predeterminada en nuestro sistema operativo."
      ]
    },
    {
      "cell_type": "code",
      "metadata": {
        "id": "gs8Vvpf4n4WB",
        "colab": {
          "base_uri": "https://localhost:8080/"
        },
        "outputId": "b2d31f30-1106-40e6-8a22-59631c8b6c5b"
      },
      "source": [
        "!ip route show"
      ],
      "execution_count": null,
      "outputs": [
        {
          "output_type": "stream",
          "name": "stdout",
          "text": [
            "default via 172.28.0.1 dev eth0 \n",
            "172.28.0.0/16 dev eth0 proto kernel scope link src 172.28.0.2 \n"
          ]
        }
      ]
    },
    {
      "cell_type": "code",
      "metadata": {
        "id": "aPHOy9rLn6uu",
        "colab": {
          "base_uri": "https://localhost:8080/"
        },
        "outputId": "7edd83b7-ab3c-408a-c0b6-030f966a5088"
      },
      "source": [
        "!ip route list\n"
      ],
      "execution_count": null,
      "outputs": [
        {
          "output_type": "stream",
          "name": "stdout",
          "text": [
            "default via 172.28.0.1 dev eth0 \n",
            "172.28.0.0/16 dev eth0 proto kernel scope link src 172.28.0.2 \n"
          ]
        }
      ]
    },
    {
      "cell_type": "markdown",
      "metadata": {
        "id": "Ip1F8VL_kzg0"
      },
      "source": [
        "# Cómo configurar varias tablas de enrutamiento en Linux\n",
        "---\n",
        "Una de las características principales de **iproute2**, es que nos permite crear múltiples tablas de enrutamiento, con el objetivo de poder tener varios gateways. Lo primero que tenemos que hacer es editar el archivo que está en **«/etc/iproute2/rt_tables»**, cuyo contenido es el siguiente\n",
        "```bash\n",
        "#\n",
        "# reserved values\n",
        "#\n",
        "255 local\n",
        "254 main\n",
        "253 default\n",
        "0 unspec\n",
        "#\n",
        "# local\n",
        "#\n",
        "#1 inr.ruhep\n",
        "```\n",
        "\n",
        "\n",
        "Tal y como vimos, tenemos tres tablas, **local**, **main** y **default**. Lo único que tenemos que hacer es añadir el nombre de la nueva tabla de enrutamiento, por ejemplo, **«dirticom»** con un identificador de preferencia 66.\n",
        "```bash\n",
        "#\n",
        "# reserved values\n",
        "#\n",
        "255 local\n",
        "254 main\n",
        "253 default\n",
        "0 unspec\n",
        "#\n",
        "# local\n",
        "#\n",
        "#1 inr.ruhep\n",
        "```\n",
        "```bash\n",
        "66 dirticom\n",
        "```\n",
        "Una vez que lo hayamos añadido, guardamos el archivo, y empezamos a añadir rutas de la forma de siempre.\n",
        "Nosotros en nuestras computadoras tenemos una dirección IP privada 10.10.2.2, queremos poner que el gateway sea 10.10.2.1, y añadir una ruta a 10.8.0.0/24 en la interfaz  enp37s0.\n",
        "```bash\n",
        "ip route add 10.8.0.0/24 dev  enp37s0 src 10.10.2.2 table dirticom\n",
        "```\n",
        "Debemos poner el comando «src» seguido de la dirección IP de la interfaz física real, y posteriormente con «table» elegir el nombre de la tabla. Si queremos borrar esta ruta que hemos creado en la tabla de enrutamiento **«dirticom»**, tenemos que poner:\n",
        "```bash\n",
        "ip route del 10.8.0.0/24 dev enp37s0 src 10.10.2.2 table dirticom\n",
        "```\n",
        "Si queremos añadir el gateway a esta nueva tabla de enrutamiento, debemos poner lo siguiente:\n",
        "```bash\n",
        "ip route add default via 10.10.2.1 dev enp37s0 table dirticom\n",
        "```\n",
        "Para que el sistema operativo sepa cuándo usar esta nueva tabla de enrutamiento que acabamos de crear, se deben configurar dos reglas, una con el tráfico entrante y otra con el tráfico saliente que llegue a una interfaz en concreto.\n",
        "```bash\n",
        "ip rule add from 10.10.2.2/32 table dirticom\n",
        "```\n",
        "```bash\n",
        "ip rule add to 10.10.2.2/32 table dirticom\n",
        "```\n",
        "Estas dos reglas indican que el tráfico desde la dirección IP 10.10.2.2 utilice la tabla de enrutamiento «dirticom», y el tráfico a la IP 10.10.2.2 también la utilice.\n",
        "Para ver el estado de la tabla de enrutamiento que acabamos de crear, ejecutamos:\n",
        "```bash\n",
        "ip route list table dirticom\n",
        "```\n",
        "Si queremos ver todas las reglas añadidas, ponemos:\n",
        "```bash\n",
        "ip rule show\n",
        "```"
      ]
    },
    {
      "cell_type": "code",
      "metadata": {
        "id": "h_gJ1iIQoE62"
      },
      "source": [
        "!ip rule show"
      ],
      "execution_count": null,
      "outputs": []
    },
    {
      "cell_type": "markdown",
      "metadata": {
        "id": "szsA6BzGmLsK"
      },
      "source": [
        "# Hacer persistentes todos los cambios en IPs y rutas\n",
        "---\n",
        "Si **reiniciamos** el servidor, todos los cambios que hayamos hecho en el sistema operativo con el comando «ip» no se guardarán al reiniciar el servidor, por tanto, debemos hacer persistentes estos cambios. Dependiendo del sistema operativo, se hace de una forma u otra, en dirticom  hemos utilizado Debian última versión para hacer esto. Lo primero que debemos hacer es editar el archivo de configuración ubicado en **«/etc/network/interfaces»**, aquí es donde podremos poner todas las direcciones IP y las rutas y reglas que nosotros deseemos.\n",
        "Un archivo de configuración de ejemplo, sería el siguiente, donde tenemos un total de tres interfaces físicas, varias direcciones IP secundarias con alias, y también un total de tres tablas de enrutamiento. Por cada tabla de enrutamiento, necesitamos un **gateway** y las correspondientes reglas con **«ip rule»**:\n",
        "```bash\n",
        "auto eth0\n",
        "\n",
        "allow-hotplug eth0\n",
        "iface eth0 inet static\n",
        "address 192.168.1.154\n",
        "netmask 255.255.255.0\n",
        "gateway 192.168.1.153\n",
        "```\n",
        "```bash\n",
        "iface eth2 inet static\n",
        "address 10.20.200.115\n",
        "netmask 255.255.255.248\n",
        "post-up ip route add 10.20.200.112/29 dev eth2 src 10.20.200.115 table tabla3\n",
        "post-up ip rule add from 10.20.200.115/32 table tabla3\n",
        "post-up ip rule add to 10.20.200.115/32 table tabla3\n",
        "```\n",
        "\n",
        "\n",
        "Gracias a iproute2 podremos realizar configuraciones avanzadas realmente interesantes, \n"
      ]
    },
    {
      "cell_type": "code",
      "source": [
        "!git "
      ],
      "metadata": {
        "id": "q6b_JqFaacf5"
      },
      "execution_count": null,
      "outputs": []
    },
    {
      "cell_type": "code",
      "source": [
        "!git add ."
      ],
      "metadata": {
        "id": "hRPl-ieYavSW"
      },
      "execution_count": 16,
      "outputs": []
    },
    {
      "cell_type": "code",
      "source": [
        "!git config --global user.email \"lucasvargasjibs@gmail.com\""
      ],
      "metadata": {
        "id": "IanFMv6gcKkj"
      },
      "execution_count": 17,
      "outputs": []
    },
    {
      "cell_type": "code",
      "source": [
        "!git config --global user.name \"lucas vargas\""
      ],
      "metadata": {
        "id": "HfkoTUmCcukt"
      },
      "execution_count": 18,
      "outputs": []
    },
    {
      "cell_type": "code",
      "source": [
        "!git commit -m \"first commit\""
      ],
      "metadata": {
        "colab": {
          "base_uri": "https://localhost:8080/"
        },
        "id": "YxaFhwdmbMLs",
        "outputId": "0694f9ad-3c97-4b9d-e59f-a0a397269717"
      },
      "execution_count": 36,
      "outputs": [
        {
          "output_type": "stream",
          "name": "stdout",
          "text": [
            "On branch master\n",
            "\n",
            "Initial commit\n",
            "\n",
            "nothing to commit\n"
          ]
        }
      ]
    },
    {
      "cell_type": "code",
      "source": [
        "!git branch -M main\n"
      ],
      "metadata": {
        "id": "HOm1cezMdCw4"
      },
      "execution_count": 21,
      "outputs": []
    },
    {
      "cell_type": "code",
      "source": [
        "!git remote add origin https://github.com/ldvjjv/LinuxIproute2-.git"
      ],
      "metadata": {
        "colab": {
          "base_uri": "https://localhost:8080/"
        },
        "id": "FRMkw5eYdmmN",
        "outputId": "f75039c3-6dd8-4072-e68c-892b86e56088"
      },
      "execution_count": 22,
      "outputs": [
        {
          "output_type": "stream",
          "name": "stdout",
          "text": [
            "fatal: remote origin already exists.\n"
          ]
        }
      ]
    },
    {
      "cell_type": "code",
      "source": [
        "!git push -u origin main"
      ],
      "metadata": {
        "colab": {
          "base_uri": "https://localhost:8080/"
        },
        "id": "kOtWe7kCdt_v",
        "outputId": "8920ca62-926d-4623-98ed-902b658150f8"
      },
      "execution_count": 37,
      "outputs": [
        {
          "output_type": "stream",
          "name": "stdout",
          "text": [
            "error: src refspec main does not match any.\n",
            "error: failed to push some refs to 'https://github.com/ldvjjv/LinuxIproute2-.git'\n"
          ]
        }
      ]
    },
    {
      "cell_type": "code",
      "source": [
        "!git remote add origin https://github.com/ldvjjv/LinuxIproute2-.git\n",
        "!git branch -M main\n",
        "!git push -u origin main"
      ],
      "metadata": {
        "colab": {
          "base_uri": "https://localhost:8080/"
        },
        "id": "9eOjo9D5eqVx",
        "outputId": "f793f0e1-37c9-4899-9f62-de792bc8ce7d"
      },
      "execution_count": 38,
      "outputs": [
        {
          "output_type": "stream",
          "name": "stdout",
          "text": [
            "fatal: remote origin already exists.\n",
            "error: refname refs/heads/master not found\n",
            "fatal: Branch rename failed\n",
            "error: src refspec main does not match any.\n",
            "error: failed to push some refs to 'https://github.com/ldvjjv/LinuxIproute2-.git'\n"
          ]
        }
      ]
    },
    {
      "cell_type": "code",
      "source": [
        "!git clone  https://github.com/ldvjjv/LinuxIproute2-.git"
      ],
      "metadata": {
        "colab": {
          "base_uri": "https://localhost:8080/"
        },
        "id": "EoNWreKZfFcj",
        "outputId": "4504a6c7-a91e-4690-e160-0ed93faa37b2"
      },
      "execution_count": 39,
      "outputs": [
        {
          "output_type": "stream",
          "name": "stdout",
          "text": [
            "Cloning into 'LinuxIproute2-'...\n",
            "warning: You appear to have cloned an empty repository.\n"
          ]
        }
      ]
    },
    {
      "cell_type": "code",
      "source": [
        "!pwd\n",
        "!ls\n"
      ],
      "metadata": {
        "colab": {
          "base_uri": "https://localhost:8080/"
        },
        "id": "Xxz1UBN0fjDw",
        "outputId": "70b56503-438d-4aa0-f430-2a511421e20c"
      },
      "execution_count": 40,
      "outputs": [
        {
          "output_type": "stream",
          "name": "stdout",
          "text": [
            "/content/LinuxIproute2-\n",
            "LinuxIproute2-\n"
          ]
        }
      ]
    },
    {
      "cell_type": "code",
      "source": [
        "%cd /content/LinuxIproute2-\n",
        "!ls"
      ],
      "metadata": {
        "colab": {
          "base_uri": "https://localhost:8080/"
        },
        "id": "BXIxelKHgUO2",
        "outputId": "62c53aaa-1615-4289-eb3f-0e3c3150aa3f"
      },
      "execution_count": 32,
      "outputs": [
        {
          "output_type": "stream",
          "name": "stdout",
          "text": [
            "/content/LinuxIproute2-\n"
          ]
        }
      ]
    },
    {
      "cell_type": "code",
      "source": [
        "!git remote -v"
      ],
      "metadata": {
        "colab": {
          "base_uri": "https://localhost:8080/"
        },
        "id": "oe701xvcg2JS",
        "outputId": "69336035-edf3-4c8d-b021-1cff2e49467f"
      },
      "execution_count": 33,
      "outputs": [
        {
          "output_type": "stream",
          "name": "stdout",
          "text": [
            "origin\thttps://github.com/ldvjjv/LinuxIproute2-.git (fetch)\n",
            "origin\thttps://github.com/ldvjjv/LinuxIproute2-.git (push)\n"
          ]
        }
      ]
    },
    {
      "cell_type": "code",
      "source": [
        "!git status"
      ],
      "metadata": {
        "colab": {
          "base_uri": "https://localhost:8080/"
        },
        "id": "AxJaj0iMhFrt",
        "outputId": "da49efdf-1bf0-48f7-d4e1-634daef16fc1"
      },
      "execution_count": 41,
      "outputs": [
        {
          "output_type": "stream",
          "name": "stdout",
          "text": [
            "On branch master\n",
            "\n",
            "No commits yet\n",
            "\n",
            "nothing to commit (create/copy files and use \"git add\" to track)\n"
          ]
        }
      ]
    },
    {
      "cell_type": "code",
      "source": [
        "!git add -A"
      ],
      "metadata": {
        "id": "q5ZreR5LhgMF"
      },
      "execution_count": 35,
      "outputs": []
    },
    {
      "cell_type": "code",
      "source": [
        "!git config --list"
      ],
      "metadata": {
        "colab": {
          "base_uri": "https://localhost:8080/"
        },
        "id": "swMKtRJ7ilm1",
        "outputId": "f868232b-3925-4f74-c9a9-c03ca526da22"
      },
      "execution_count": 42,
      "outputs": [
        {
          "output_type": "stream",
          "name": "stdout",
          "text": [
            "user.email=lucasvargasjibs@gmail.com\n",
            "user.name=lucas vargas\n",
            "core.repositoryformatversion=0\n",
            "core.filemode=true\n",
            "core.bare=false\n",
            "core.logallrefupdates=true\n",
            "remote.origin.url=https://github.com/ldvjjv/LinuxIproute2-.git\n",
            "remote.origin.fetch=+refs/heads/*:refs/remotes/origin/*\n",
            "branch.master.remote=origin\n",
            "branch.master.merge=refs/heads/master\n"
          ]
        }
      ]
    }
  ]
}